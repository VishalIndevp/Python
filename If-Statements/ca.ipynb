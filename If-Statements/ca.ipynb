{
 "cells": [
  {
   "cell_type": "code",
   "execution_count": 3,
   "id": "e461d374",
   "metadata": {},
   "outputs": [
    {
     "name": "stdout",
     "output_type": "stream",
     "text": [
      "f off\n"
     ]
    }
   ],
   "source": [
    "# if statement\n",
    " \n",
    "age=1\n",
    "if age>=18:\n",
    "    print(\"You can vote now\")\n",
    "else:\n",
    "    print(\"f off\")"
   ]
  },
  {
   "cell_type": "code",
   "execution_count": null,
   "id": "d181c2eb",
   "metadata": {},
   "outputs": [
    {
     "name": "stdout",
     "output_type": "stream",
     "text": [
      "The num is 0\n"
     ]
    }
   ],
   "source": [
    "# Nested Statement conditions\n",
    "\n",
    "num = int(input(\"Enter you num\"))\n",
    "\n",
    "if num>0:\n",
    "    print(\"The num is possitive\")\n",
    "    if num%4==0:\n",
    "        print(\"The num is even\")\n",
    "    else:\n",
    "        print(\"The num is odd\")\n",
    "else:\n",
    "    print(\"The num is 0\")"
   ]
  },
  {
   "cell_type": "code",
   "execution_count": 33,
   "id": "9e5ccffe",
   "metadata": {},
   "outputs": [
    {
     "name": "stdout",
     "output_type": "stream",
     "text": [
      "2024 Leap Year\n"
     ]
    }
   ],
   "source": [
    "# Checking is a leap year or not\n",
    "year=int(input(\"Enter year\"))\n",
    "\n",
    "if year%4==0:\n",
    "    print(year,\"Leap Year\")\n",
    "else:\n",
    "    print(year,\"Not a leap year\")"
   ]
  },
  {
   "cell_type": "code",
   "execution_count": 40,
   "id": "9848c36f",
   "metadata": {},
   "outputs": [
    {
     "name": "stdout",
     "output_type": "stream",
     "text": [
      "2.0\n"
     ]
    }
   ],
   "source": [
    "# Simple calculator\n",
    "num1=float(input(\"Enter the first number\"))\n",
    "operators=input(\"Enter the operators like (+,-,*,/):\")\n",
    "num2=float(input(\"Enter the first number\"))\n",
    "\n",
    "if operators == '+':\n",
    "    result = num1 + num2\n",
    "elif operators == '-':\n",
    "    result = num1-num2\n",
    "elif operators == '*':\n",
    "    result = num1*num2\n",
    "elif operators !=0:\n",
    "    result=num1/num2\n",
    "    if operators ==0:\n",
    "        print(\"Can not divided by zero\")\n",
    "else:\n",
    "    print(\"Invalid operator\")\n",
    "\n",
    "print(result)\n"
   ]
  },
  {
   "cell_type": "code",
   "execution_count": 50,
   "id": "9257d8d5",
   "metadata": {},
   "outputs": [
    {
     "name": "stdout",
     "output_type": "stream",
     "text": [
      "Your ticket price is $15\n"
     ]
    }
   ],
   "source": [
    "# Taking user input\n",
    "age = int(input(\"Enter your age:\"))\n",
    "is_student=input(\"Are you a student?Yes/No\").lower()\n",
    "\n",
    "# Determining the ticking price\n",
    "if age <5:\n",
    "    price=\"Free\"\n",
    "elif age<=12:\n",
    "    price=\"$10\"\n",
    "elif age <=17:\n",
    "    if is_student == \"yes\":\n",
    "        price=\"$12\"\n",
    "        if is_student ==\"no\":\n",
    "            price=\"$15\"\n",
    "        else:\n",
    "            price=\"Invalid\"\n",
    "elif age<=64:\n",
    "    if is_student == \"yes\":\n",
    "        price=\"$18\"\n",
    "    else:\n",
    "        price=\"$25\"\n",
    "\n",
    "print(\"Your ticket price is\",price)"
   ]
  },
  {
   "cell_type": "code",
   "execution_count": null,
   "id": "a98257d7",
   "metadata": {},
   "outputs": [],
   "source": [
    "# Checking a number is divided by "
   ]
  }
 ],
 "metadata": {
  "kernelspec": {
   "display_name": "base",
   "language": "python",
   "name": "python3"
  },
  "language_info": {
   "codemirror_mode": {
    "name": "ipython",
    "version": 3
   },
   "file_extension": ".py",
   "mimetype": "text/x-python",
   "name": "python",
   "nbconvert_exporter": "python",
   "pygments_lexer": "ipython3",
   "version": "3.12.7"
  }
 },
 "nbformat": 4,
 "nbformat_minor": 5
}
